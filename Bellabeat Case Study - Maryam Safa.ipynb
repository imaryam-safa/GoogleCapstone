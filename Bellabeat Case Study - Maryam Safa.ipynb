{
 "cells": [
  {
   "cell_type": "markdown",
   "id": "ab02f9d1",
   "metadata": {},
   "source": [
    "## Loading all the libraries needed"
   ]
  },
  {
   "cell_type": "code",
   "execution_count": 303,
   "id": "eb43f46b",
   "metadata": {},
   "outputs": [],
   "source": [
    "import os \n",
    "import pandas as pd\n",
    "import numpy as np\n",
    "import matplotlib.pyplot as plt\n",
    "import statsmodels.api as sm\n",
    "from sklearn.linear_model import LinearRegression"
   ]
  },
  {
   "cell_type": "markdown",
   "id": "eaefd62c",
   "metadata": {},
   "source": [
    "After loading the libraries we need for the analysis, we load the file that we need. In this case it is the 'dailyActivities_merged.csv'."
   ]
  },
  {
   "cell_type": "markdown",
   "id": "54688ec6",
   "metadata": {},
   "source": [
    "## Loading All the Files Needed "
   ]
  },
  {
   "cell_type": "code",
   "execution_count": 273,
   "id": "0624e79e",
   "metadata": {},
   "outputs": [],
   "source": [
    "Activity = pd.read_csv(r'C:/Users/safam/OneDrive/Desktop/fitbit data/dailyActivity_merged.csv')"
   ]
  },
  {
   "cell_type": "code",
   "execution_count": 274,
   "id": "b34728af",
   "metadata": {},
   "outputs": [],
   "source": [
    "weight = pd.read_csv(r'C:/Users/safam/OneDrive/Desktop/fitbit data/weightLogInfo_merged.csv')"
   ]
  },
  {
   "cell_type": "code",
   "execution_count": 275,
   "id": "44e41754",
   "metadata": {},
   "outputs": [],
   "source": [
    "Steps_Daily = pd.read_csv(r'C:/Users/safam/OneDrive/Desktop/fitbit data/dailySteps_merged.csv')"
   ]
  },
  {
   "cell_type": "code",
   "execution_count": 276,
   "id": "659b8117",
   "metadata": {},
   "outputs": [],
   "source": [
    "Sleep = pd.read_csv(r'C:/Users/safam/OneDrive/Desktop/fitbit data/sleepDay_merged.csv')"
   ]
  },
  {
   "cell_type": "markdown",
   "id": "870eb4fe",
   "metadata": {},
   "source": [
    "To check if the file has loaded properly, we use the following code:"
   ]
  },
  {
   "cell_type": "code",
   "execution_count": 277,
   "id": "721c4975",
   "metadata": {},
   "outputs": [
    {
     "data": {
      "text/html": [
       "<div>\n",
       "<style scoped>\n",
       "    .dataframe tbody tr th:only-of-type {\n",
       "        vertical-align: middle;\n",
       "    }\n",
       "\n",
       "    .dataframe tbody tr th {\n",
       "        vertical-align: top;\n",
       "    }\n",
       "\n",
       "    .dataframe thead th {\n",
       "        text-align: right;\n",
       "    }\n",
       "</style>\n",
       "<table border=\"1\" class=\"dataframe\">\n",
       "  <thead>\n",
       "    <tr style=\"text-align: right;\">\n",
       "      <th></th>\n",
       "      <th>Id</th>\n",
       "      <th>ActivityDate</th>\n",
       "      <th>TotalSteps</th>\n",
       "      <th>TotalDistance</th>\n",
       "      <th>TrackerDistance</th>\n",
       "      <th>LoggedActivitiesDistance</th>\n",
       "      <th>VeryActiveDistance</th>\n",
       "      <th>ModeratelyActiveDistance</th>\n",
       "      <th>LightActiveDistance</th>\n",
       "      <th>SedentaryActiveDistance</th>\n",
       "      <th>VeryActiveMinutes</th>\n",
       "      <th>FairlyActiveMinutes</th>\n",
       "      <th>LightlyActiveMinutes</th>\n",
       "      <th>SedentaryMinutes</th>\n",
       "      <th>Calories</th>\n",
       "    </tr>\n",
       "  </thead>\n",
       "  <tbody>\n",
       "    <tr>\n",
       "      <th>0</th>\n",
       "      <td>1503960366</td>\n",
       "      <td>4/12/2016</td>\n",
       "      <td>13162</td>\n",
       "      <td>8.50</td>\n",
       "      <td>8.50</td>\n",
       "      <td>0.0</td>\n",
       "      <td>1.88</td>\n",
       "      <td>0.55</td>\n",
       "      <td>6.06</td>\n",
       "      <td>0.0</td>\n",
       "      <td>25</td>\n",
       "      <td>13</td>\n",
       "      <td>328</td>\n",
       "      <td>728</td>\n",
       "      <td>1985</td>\n",
       "    </tr>\n",
       "    <tr>\n",
       "      <th>1</th>\n",
       "      <td>1503960366</td>\n",
       "      <td>4/13/2016</td>\n",
       "      <td>10735</td>\n",
       "      <td>6.97</td>\n",
       "      <td>6.97</td>\n",
       "      <td>0.0</td>\n",
       "      <td>1.57</td>\n",
       "      <td>0.69</td>\n",
       "      <td>4.71</td>\n",
       "      <td>0.0</td>\n",
       "      <td>21</td>\n",
       "      <td>19</td>\n",
       "      <td>217</td>\n",
       "      <td>776</td>\n",
       "      <td>1797</td>\n",
       "    </tr>\n",
       "    <tr>\n",
       "      <th>2</th>\n",
       "      <td>1503960366</td>\n",
       "      <td>4/14/2016</td>\n",
       "      <td>10460</td>\n",
       "      <td>6.74</td>\n",
       "      <td>6.74</td>\n",
       "      <td>0.0</td>\n",
       "      <td>2.44</td>\n",
       "      <td>0.40</td>\n",
       "      <td>3.91</td>\n",
       "      <td>0.0</td>\n",
       "      <td>30</td>\n",
       "      <td>11</td>\n",
       "      <td>181</td>\n",
       "      <td>1218</td>\n",
       "      <td>1776</td>\n",
       "    </tr>\n",
       "    <tr>\n",
       "      <th>3</th>\n",
       "      <td>1503960366</td>\n",
       "      <td>4/15/2016</td>\n",
       "      <td>9762</td>\n",
       "      <td>6.28</td>\n",
       "      <td>6.28</td>\n",
       "      <td>0.0</td>\n",
       "      <td>2.14</td>\n",
       "      <td>1.26</td>\n",
       "      <td>2.83</td>\n",
       "      <td>0.0</td>\n",
       "      <td>29</td>\n",
       "      <td>34</td>\n",
       "      <td>209</td>\n",
       "      <td>726</td>\n",
       "      <td>1745</td>\n",
       "    </tr>\n",
       "    <tr>\n",
       "      <th>4</th>\n",
       "      <td>1503960366</td>\n",
       "      <td>4/16/2016</td>\n",
       "      <td>12669</td>\n",
       "      <td>8.16</td>\n",
       "      <td>8.16</td>\n",
       "      <td>0.0</td>\n",
       "      <td>2.71</td>\n",
       "      <td>0.41</td>\n",
       "      <td>5.04</td>\n",
       "      <td>0.0</td>\n",
       "      <td>36</td>\n",
       "      <td>10</td>\n",
       "      <td>221</td>\n",
       "      <td>773</td>\n",
       "      <td>1863</td>\n",
       "    </tr>\n",
       "  </tbody>\n",
       "</table>\n",
       "</div>"
      ],
      "text/plain": [
       "           Id ActivityDate  TotalSteps  TotalDistance  TrackerDistance  \\\n",
       "0  1503960366    4/12/2016       13162           8.50             8.50   \n",
       "1  1503960366    4/13/2016       10735           6.97             6.97   \n",
       "2  1503960366    4/14/2016       10460           6.74             6.74   \n",
       "3  1503960366    4/15/2016        9762           6.28             6.28   \n",
       "4  1503960366    4/16/2016       12669           8.16             8.16   \n",
       "\n",
       "   LoggedActivitiesDistance  VeryActiveDistance  ModeratelyActiveDistance  \\\n",
       "0                       0.0                1.88                      0.55   \n",
       "1                       0.0                1.57                      0.69   \n",
       "2                       0.0                2.44                      0.40   \n",
       "3                       0.0                2.14                      1.26   \n",
       "4                       0.0                2.71                      0.41   \n",
       "\n",
       "   LightActiveDistance  SedentaryActiveDistance  VeryActiveMinutes  \\\n",
       "0                 6.06                      0.0                 25   \n",
       "1                 4.71                      0.0                 21   \n",
       "2                 3.91                      0.0                 30   \n",
       "3                 2.83                      0.0                 29   \n",
       "4                 5.04                      0.0                 36   \n",
       "\n",
       "   FairlyActiveMinutes  LightlyActiveMinutes  SedentaryMinutes  Calories  \n",
       "0                   13                   328               728      1985  \n",
       "1                   19                   217               776      1797  \n",
       "2                   11                   181              1218      1776  \n",
       "3                   34                   209               726      1745  \n",
       "4                   10                   221               773      1863  "
      ]
     },
     "execution_count": 277,
     "metadata": {},
     "output_type": "execute_result"
    }
   ],
   "source": [
    "Activity.head()"
   ]
  },
  {
   "cell_type": "code",
   "execution_count": 278,
   "id": "c871462a",
   "metadata": {},
   "outputs": [
    {
     "data": {
      "text/html": [
       "<div>\n",
       "<style scoped>\n",
       "    .dataframe tbody tr th:only-of-type {\n",
       "        vertical-align: middle;\n",
       "    }\n",
       "\n",
       "    .dataframe tbody tr th {\n",
       "        vertical-align: top;\n",
       "    }\n",
       "\n",
       "    .dataframe thead th {\n",
       "        text-align: right;\n",
       "    }\n",
       "</style>\n",
       "<table border=\"1\" class=\"dataframe\">\n",
       "  <thead>\n",
       "    <tr style=\"text-align: right;\">\n",
       "      <th></th>\n",
       "      <th>Id</th>\n",
       "      <th>Date</th>\n",
       "      <th>WeightKg</th>\n",
       "      <th>WeightPounds</th>\n",
       "      <th>Fat</th>\n",
       "      <th>BMI</th>\n",
       "      <th>IsManualReport</th>\n",
       "      <th>LogId</th>\n",
       "    </tr>\n",
       "  </thead>\n",
       "  <tbody>\n",
       "    <tr>\n",
       "      <th>0</th>\n",
       "      <td>1503960366</td>\n",
       "      <td>5/2/2016 11:59:59 PM</td>\n",
       "      <td>52.599998</td>\n",
       "      <td>115.963147</td>\n",
       "      <td>22.0</td>\n",
       "      <td>22.650000</td>\n",
       "      <td>True</td>\n",
       "      <td>1462233599000</td>\n",
       "    </tr>\n",
       "    <tr>\n",
       "      <th>1</th>\n",
       "      <td>1503960366</td>\n",
       "      <td>5/3/2016 11:59:59 PM</td>\n",
       "      <td>52.599998</td>\n",
       "      <td>115.963147</td>\n",
       "      <td>NaN</td>\n",
       "      <td>22.650000</td>\n",
       "      <td>True</td>\n",
       "      <td>1462319999000</td>\n",
       "    </tr>\n",
       "    <tr>\n",
       "      <th>2</th>\n",
       "      <td>1927972279</td>\n",
       "      <td>4/13/2016 1:08:52 AM</td>\n",
       "      <td>133.500000</td>\n",
       "      <td>294.317120</td>\n",
       "      <td>NaN</td>\n",
       "      <td>47.540001</td>\n",
       "      <td>False</td>\n",
       "      <td>1460509732000</td>\n",
       "    </tr>\n",
       "    <tr>\n",
       "      <th>3</th>\n",
       "      <td>2873212765</td>\n",
       "      <td>4/21/2016 11:59:59 PM</td>\n",
       "      <td>56.700001</td>\n",
       "      <td>125.002104</td>\n",
       "      <td>NaN</td>\n",
       "      <td>21.450001</td>\n",
       "      <td>True</td>\n",
       "      <td>1461283199000</td>\n",
       "    </tr>\n",
       "    <tr>\n",
       "      <th>4</th>\n",
       "      <td>2873212765</td>\n",
       "      <td>5/12/2016 11:59:59 PM</td>\n",
       "      <td>57.299999</td>\n",
       "      <td>126.324875</td>\n",
       "      <td>NaN</td>\n",
       "      <td>21.690001</td>\n",
       "      <td>True</td>\n",
       "      <td>1463097599000</td>\n",
       "    </tr>\n",
       "  </tbody>\n",
       "</table>\n",
       "</div>"
      ],
      "text/plain": [
       "           Id                   Date    WeightKg  WeightPounds   Fat  \\\n",
       "0  1503960366   5/2/2016 11:59:59 PM   52.599998    115.963147  22.0   \n",
       "1  1503960366   5/3/2016 11:59:59 PM   52.599998    115.963147   NaN   \n",
       "2  1927972279   4/13/2016 1:08:52 AM  133.500000    294.317120   NaN   \n",
       "3  2873212765  4/21/2016 11:59:59 PM   56.700001    125.002104   NaN   \n",
       "4  2873212765  5/12/2016 11:59:59 PM   57.299999    126.324875   NaN   \n",
       "\n",
       "         BMI  IsManualReport          LogId  \n",
       "0  22.650000            True  1462233599000  \n",
       "1  22.650000            True  1462319999000  \n",
       "2  47.540001           False  1460509732000  \n",
       "3  21.450001            True  1461283199000  \n",
       "4  21.690001            True  1463097599000  "
      ]
     },
     "execution_count": 278,
     "metadata": {},
     "output_type": "execute_result"
    }
   ],
   "source": [
    "weight.head()"
   ]
  },
  {
   "cell_type": "code",
   "execution_count": 279,
   "id": "24f7816d",
   "metadata": {},
   "outputs": [
    {
     "data": {
      "text/html": [
       "<div>\n",
       "<style scoped>\n",
       "    .dataframe tbody tr th:only-of-type {\n",
       "        vertical-align: middle;\n",
       "    }\n",
       "\n",
       "    .dataframe tbody tr th {\n",
       "        vertical-align: top;\n",
       "    }\n",
       "\n",
       "    .dataframe thead th {\n",
       "        text-align: right;\n",
       "    }\n",
       "</style>\n",
       "<table border=\"1\" class=\"dataframe\">\n",
       "  <thead>\n",
       "    <tr style=\"text-align: right;\">\n",
       "      <th></th>\n",
       "      <th>Id</th>\n",
       "      <th>ActivityDay</th>\n",
       "      <th>StepTotal</th>\n",
       "    </tr>\n",
       "  </thead>\n",
       "  <tbody>\n",
       "    <tr>\n",
       "      <th>0</th>\n",
       "      <td>1503960366</td>\n",
       "      <td>4/12/2016</td>\n",
       "      <td>13162</td>\n",
       "    </tr>\n",
       "    <tr>\n",
       "      <th>1</th>\n",
       "      <td>1503960366</td>\n",
       "      <td>4/13/2016</td>\n",
       "      <td>10735</td>\n",
       "    </tr>\n",
       "    <tr>\n",
       "      <th>2</th>\n",
       "      <td>1503960366</td>\n",
       "      <td>4/14/2016</td>\n",
       "      <td>10460</td>\n",
       "    </tr>\n",
       "    <tr>\n",
       "      <th>3</th>\n",
       "      <td>1503960366</td>\n",
       "      <td>4/15/2016</td>\n",
       "      <td>9762</td>\n",
       "    </tr>\n",
       "    <tr>\n",
       "      <th>4</th>\n",
       "      <td>1503960366</td>\n",
       "      <td>4/16/2016</td>\n",
       "      <td>12669</td>\n",
       "    </tr>\n",
       "  </tbody>\n",
       "</table>\n",
       "</div>"
      ],
      "text/plain": [
       "           Id ActivityDay  StepTotal\n",
       "0  1503960366   4/12/2016      13162\n",
       "1  1503960366   4/13/2016      10735\n",
       "2  1503960366   4/14/2016      10460\n",
       "3  1503960366   4/15/2016       9762\n",
       "4  1503960366   4/16/2016      12669"
      ]
     },
     "execution_count": 279,
     "metadata": {},
     "output_type": "execute_result"
    }
   ],
   "source": [
    "Steps_Daily.head()"
   ]
  },
  {
   "cell_type": "code",
   "execution_count": 280,
   "id": "bf2fc479",
   "metadata": {},
   "outputs": [
    {
     "data": {
      "text/html": [
       "<div>\n",
       "<style scoped>\n",
       "    .dataframe tbody tr th:only-of-type {\n",
       "        vertical-align: middle;\n",
       "    }\n",
       "\n",
       "    .dataframe tbody tr th {\n",
       "        vertical-align: top;\n",
       "    }\n",
       "\n",
       "    .dataframe thead th {\n",
       "        text-align: right;\n",
       "    }\n",
       "</style>\n",
       "<table border=\"1\" class=\"dataframe\">\n",
       "  <thead>\n",
       "    <tr style=\"text-align: right;\">\n",
       "      <th></th>\n",
       "      <th>Id</th>\n",
       "      <th>SleepDay</th>\n",
       "      <th>TotalSleepRecords</th>\n",
       "      <th>TotalMinutesAsleep</th>\n",
       "      <th>TotalTimeInBed</th>\n",
       "    </tr>\n",
       "  </thead>\n",
       "  <tbody>\n",
       "    <tr>\n",
       "      <th>0</th>\n",
       "      <td>1503960366</td>\n",
       "      <td>4/12/2016 12:00:00 AM</td>\n",
       "      <td>1</td>\n",
       "      <td>327</td>\n",
       "      <td>346</td>\n",
       "    </tr>\n",
       "    <tr>\n",
       "      <th>1</th>\n",
       "      <td>1503960366</td>\n",
       "      <td>4/13/2016 12:00:00 AM</td>\n",
       "      <td>2</td>\n",
       "      <td>384</td>\n",
       "      <td>407</td>\n",
       "    </tr>\n",
       "    <tr>\n",
       "      <th>2</th>\n",
       "      <td>1503960366</td>\n",
       "      <td>4/15/2016 12:00:00 AM</td>\n",
       "      <td>1</td>\n",
       "      <td>412</td>\n",
       "      <td>442</td>\n",
       "    </tr>\n",
       "    <tr>\n",
       "      <th>3</th>\n",
       "      <td>1503960366</td>\n",
       "      <td>4/16/2016 12:00:00 AM</td>\n",
       "      <td>2</td>\n",
       "      <td>340</td>\n",
       "      <td>367</td>\n",
       "    </tr>\n",
       "    <tr>\n",
       "      <th>4</th>\n",
       "      <td>1503960366</td>\n",
       "      <td>4/17/2016 12:00:00 AM</td>\n",
       "      <td>1</td>\n",
       "      <td>700</td>\n",
       "      <td>712</td>\n",
       "    </tr>\n",
       "  </tbody>\n",
       "</table>\n",
       "</div>"
      ],
      "text/plain": [
       "           Id               SleepDay  TotalSleepRecords  TotalMinutesAsleep  \\\n",
       "0  1503960366  4/12/2016 12:00:00 AM                  1                 327   \n",
       "1  1503960366  4/13/2016 12:00:00 AM                  2                 384   \n",
       "2  1503960366  4/15/2016 12:00:00 AM                  1                 412   \n",
       "3  1503960366  4/16/2016 12:00:00 AM                  2                 340   \n",
       "4  1503960366  4/17/2016 12:00:00 AM                  1                 700   \n",
       "\n",
       "   TotalTimeInBed  \n",
       "0             346  \n",
       "1             407  \n",
       "2             442  \n",
       "3             367  \n",
       "4             712  "
      ]
     },
     "execution_count": 280,
     "metadata": {},
     "output_type": "execute_result"
    }
   ],
   "source": [
    "Sleep.head()"
   ]
  },
  {
   "cell_type": "markdown",
   "id": "2e577da4",
   "metadata": {},
   "source": [
    "## Cleaning the Files"
   ]
  },
  {
   "cell_type": "markdown",
   "id": "e68c9572",
   "metadata": {},
   "source": [
    "To consolidate the date columns across all the files, we will split the day column in the 'Sleep' dataframe into two:"
   ]
  },
  {
   "cell_type": "code",
   "execution_count": 281,
   "id": "e19192f0",
   "metadata": {},
   "outputs": [
    {
     "data": {
      "text/plain": [
       "33"
      ]
     },
     "execution_count": 281,
     "metadata": {},
     "output_type": "execute_result"
    }
   ],
   "source": [
    "# we now confirm the total number of participants in the study:\n",
    "\n",
    "Activity['Id'].nunique()"
   ]
  },
  {
   "cell_type": "code",
   "execution_count": 282,
   "id": "8ca98ed5",
   "metadata": {},
   "outputs": [
    {
     "data": {
      "text/plain": [
       "33"
      ]
     },
     "execution_count": 282,
     "metadata": {},
     "output_type": "execute_result"
    }
   ],
   "source": [
    "Steps_Daily['Id'].nunique()"
   ]
  },
  {
   "cell_type": "code",
   "execution_count": 283,
   "id": "94a05181",
   "metadata": {},
   "outputs": [
    {
     "data": {
      "text/plain": [
       "24"
      ]
     },
     "execution_count": 283,
     "metadata": {},
     "output_type": "execute_result"
    }
   ],
   "source": [
    "Sleep['Id'].nunique()"
   ]
  },
  {
   "cell_type": "code",
   "execution_count": 284,
   "id": "4c47790b",
   "metadata": {},
   "outputs": [
    {
     "data": {
      "text/plain": [
       "8"
      ]
     },
     "execution_count": 284,
     "metadata": {},
     "output_type": "execute_result"
    }
   ],
   "source": [
    "weight['Id'].nunique()"
   ]
  },
  {
   "cell_type": "markdown",
   "id": "700b1995",
   "metadata": {},
   "source": [
    "There are 33 participants of this study which is confirmed by the above command."
   ]
  },
  {
   "cell_type": "code",
   "execution_count": 285,
   "id": "638f6180",
   "metadata": {},
   "outputs": [
    {
     "name": "stdout",
     "output_type": "stream",
     "text": [
      "<class 'pandas.core.frame.DataFrame'>\n",
      "RangeIndex: 940 entries, 0 to 939\n",
      "Data columns (total 15 columns):\n",
      " #   Column                    Non-Null Count  Dtype  \n",
      "---  ------                    --------------  -----  \n",
      " 0   Id                        940 non-null    int64  \n",
      " 1   ActivityDate              940 non-null    object \n",
      " 2   TotalSteps                940 non-null    int64  \n",
      " 3   TotalDistance             940 non-null    float64\n",
      " 4   TrackerDistance           940 non-null    float64\n",
      " 5   LoggedActivitiesDistance  940 non-null    float64\n",
      " 6   VeryActiveDistance        940 non-null    float64\n",
      " 7   ModeratelyActiveDistance  940 non-null    float64\n",
      " 8   LightActiveDistance       940 non-null    float64\n",
      " 9   SedentaryActiveDistance   940 non-null    float64\n",
      " 10  VeryActiveMinutes         940 non-null    int64  \n",
      " 11  FairlyActiveMinutes       940 non-null    int64  \n",
      " 12  LightlyActiveMinutes      940 non-null    int64  \n",
      " 13  SedentaryMinutes          940 non-null    int64  \n",
      " 14  Calories                  940 non-null    int64  \n",
      "dtypes: float64(7), int64(7), object(1)\n",
      "memory usage: 110.3+ KB\n"
     ]
    }
   ],
   "source": [
    "#we now check for null values in each column.If nulls exist, we will drop the empty rows. \n",
    "Activity.info()"
   ]
  },
  {
   "cell_type": "code",
   "execution_count": 286,
   "id": "adefa392",
   "metadata": {},
   "outputs": [
    {
     "name": "stdout",
     "output_type": "stream",
     "text": [
      "<class 'pandas.core.frame.DataFrame'>\n",
      "RangeIndex: 940 entries, 0 to 939\n",
      "Data columns (total 3 columns):\n",
      " #   Column       Non-Null Count  Dtype \n",
      "---  ------       --------------  ----- \n",
      " 0   Id           940 non-null    int64 \n",
      " 1   ActivityDay  940 non-null    object\n",
      " 2   StepTotal    940 non-null    int64 \n",
      "dtypes: int64(2), object(1)\n",
      "memory usage: 22.2+ KB\n"
     ]
    }
   ],
   "source": [
    "Steps_Daily.info()"
   ]
  },
  {
   "cell_type": "code",
   "execution_count": 287,
   "id": "949d7ac4",
   "metadata": {},
   "outputs": [
    {
     "name": "stdout",
     "output_type": "stream",
     "text": [
      "<class 'pandas.core.frame.DataFrame'>\n",
      "RangeIndex: 413 entries, 0 to 412\n",
      "Data columns (total 5 columns):\n",
      " #   Column              Non-Null Count  Dtype \n",
      "---  ------              --------------  ----- \n",
      " 0   Id                  413 non-null    int64 \n",
      " 1   SleepDay            413 non-null    object\n",
      " 2   TotalSleepRecords   413 non-null    int64 \n",
      " 3   TotalMinutesAsleep  413 non-null    int64 \n",
      " 4   TotalTimeInBed      413 non-null    int64 \n",
      "dtypes: int64(4), object(1)\n",
      "memory usage: 16.3+ KB\n"
     ]
    }
   ],
   "source": [
    "Sleep.info()"
   ]
  },
  {
   "cell_type": "code",
   "execution_count": 288,
   "id": "455a0fb4",
   "metadata": {},
   "outputs": [
    {
     "name": "stdout",
     "output_type": "stream",
     "text": [
      "0\n",
      "0\n",
      "3\n",
      "0\n"
     ]
    }
   ],
   "source": [
    "print(Activity.duplicated().sum())\n",
    "print(Steps_Daily.duplicated().sum())\n",
    "print(Sleep.duplicated().sum())\n",
    "print(weight.duplicated().sum())"
   ]
  },
  {
   "cell_type": "code",
   "execution_count": 289,
   "id": "35db5e61",
   "metadata": {},
   "outputs": [
    {
     "name": "stdout",
     "output_type": "stream",
     "text": [
      "0\n"
     ]
    }
   ],
   "source": [
    "sleep = Sleep.drop_duplicates()\n",
    "print(sleep.duplicated().sum())"
   ]
  },
  {
   "cell_type": "markdown",
   "id": "fc1b631c",
   "metadata": {},
   "source": [
    "Since there seem to be no null values and duplicated rows, we can continue with our analyses. "
   ]
  },
  {
   "cell_type": "markdown",
   "id": "15c61445",
   "metadata": {},
   "source": [
    "## Manipulating the Data at Hand:"
   ]
  },
  {
   "cell_type": "markdown",
   "id": "870f5eb7",
   "metadata": {},
   "source": [
    "First, we calculate total minutes asleep each night and then calculate total hours asleep each night. Then we calculate the mean hours each user slept:"
   ]
  },
  {
   "cell_type": "code",
   "execution_count": 290,
   "id": "468dc19c",
   "metadata": {},
   "outputs": [
    {
     "data": {
      "text/html": [
       "<div>\n",
       "<style scoped>\n",
       "    .dataframe tbody tr th:only-of-type {\n",
       "        vertical-align: middle;\n",
       "    }\n",
       "\n",
       "    .dataframe tbody tr th {\n",
       "        vertical-align: top;\n",
       "    }\n",
       "\n",
       "    .dataframe thead th {\n",
       "        text-align: right;\n",
       "    }\n",
       "</style>\n",
       "<table border=\"1\" class=\"dataframe\">\n",
       "  <thead>\n",
       "    <tr style=\"text-align: right;\">\n",
       "      <th></th>\n",
       "      <th>TotalMinutesAsleep</th>\n",
       "      <th>HoursAsleep</th>\n",
       "    </tr>\n",
       "    <tr>\n",
       "      <th>Id</th>\n",
       "      <th></th>\n",
       "      <th></th>\n",
       "    </tr>\n",
       "  </thead>\n",
       "  <tbody>\n",
       "    <tr>\n",
       "      <th>1503960366</th>\n",
       "      <td>360.280000</td>\n",
       "      <td>6.004667</td>\n",
       "    </tr>\n",
       "    <tr>\n",
       "      <th>1644430081</th>\n",
       "      <td>294.000000</td>\n",
       "      <td>4.900000</td>\n",
       "    </tr>\n",
       "    <tr>\n",
       "      <th>1844505072</th>\n",
       "      <td>652.000000</td>\n",
       "      <td>10.866667</td>\n",
       "    </tr>\n",
       "    <tr>\n",
       "      <th>1927972279</th>\n",
       "      <td>417.000000</td>\n",
       "      <td>6.950000</td>\n",
       "    </tr>\n",
       "    <tr>\n",
       "      <th>2026352035</th>\n",
       "      <td>506.178571</td>\n",
       "      <td>8.436310</td>\n",
       "    </tr>\n",
       "  </tbody>\n",
       "</table>\n",
       "</div>"
      ],
      "text/plain": [
       "            TotalMinutesAsleep  HoursAsleep\n",
       "Id                                         \n",
       "1503960366          360.280000     6.004667\n",
       "1644430081          294.000000     4.900000\n",
       "1844505072          652.000000    10.866667\n",
       "1927972279          417.000000     6.950000\n",
       "2026352035          506.178571     8.436310"
      ]
     },
     "execution_count": 290,
     "metadata": {},
     "output_type": "execute_result"
    }
   ],
   "source": [
    "sleeptime = sleep.drop(['TotalSleepRecords','TotalTimeInBed'],axis=1)\n",
    "sleeptime[['HoursAsleep']] = sleep[['TotalMinutesAsleep']].div(60,axis=0)\n",
    "sleeptime = sleeptime.groupby(['Id']).mean(numeric_only=True)\n",
    "sleeptime.head()"
   ]
  },
  {
   "cell_type": "markdown",
   "id": "025ec8fb",
   "metadata": {},
   "source": [
    "We now calculate the average steps each user took during the course of the data collection:"
   ]
  },
  {
   "cell_type": "code",
   "execution_count": 291,
   "id": "2420a599",
   "metadata": {},
   "outputs": [
    {
     "data": {
      "text/html": [
       "<div>\n",
       "<style scoped>\n",
       "    .dataframe tbody tr th:only-of-type {\n",
       "        vertical-align: middle;\n",
       "    }\n",
       "\n",
       "    .dataframe tbody tr th {\n",
       "        vertical-align: top;\n",
       "    }\n",
       "\n",
       "    .dataframe thead th {\n",
       "        text-align: right;\n",
       "    }\n",
       "</style>\n",
       "<table border=\"1\" class=\"dataframe\">\n",
       "  <thead>\n",
       "    <tr style=\"text-align: right;\">\n",
       "      <th></th>\n",
       "      <th>StepTotal</th>\n",
       "    </tr>\n",
       "    <tr>\n",
       "      <th>Id</th>\n",
       "      <th></th>\n",
       "    </tr>\n",
       "  </thead>\n",
       "  <tbody>\n",
       "    <tr>\n",
       "      <th>1503960366</th>\n",
       "      <td>12116.741935</td>\n",
       "    </tr>\n",
       "    <tr>\n",
       "      <th>1624580081</th>\n",
       "      <td>5743.903226</td>\n",
       "    </tr>\n",
       "    <tr>\n",
       "      <th>1644430081</th>\n",
       "      <td>7282.966667</td>\n",
       "    </tr>\n",
       "    <tr>\n",
       "      <th>1844505072</th>\n",
       "      <td>2580.064516</td>\n",
       "    </tr>\n",
       "    <tr>\n",
       "      <th>1927972279</th>\n",
       "      <td>916.129032</td>\n",
       "    </tr>\n",
       "  </tbody>\n",
       "</table>\n",
       "</div>"
      ],
      "text/plain": [
       "               StepTotal\n",
       "Id                      \n",
       "1503960366  12116.741935\n",
       "1624580081   5743.903226\n",
       "1644430081   7282.966667\n",
       "1844505072   2580.064516\n",
       "1927972279    916.129032"
      ]
     },
     "execution_count": 291,
     "metadata": {},
     "output_type": "execute_result"
    }
   ],
   "source": [
    "StepDaily = Steps_Daily\n",
    "Steps_Daily = Steps_Daily.groupby(['Id']).mean(numeric_only=True)\n",
    "Steps_Daily.head()"
   ]
  },
  {
   "cell_type": "markdown",
   "id": "c93333c2",
   "metadata": {},
   "source": [
    "We will now categorize the participants based on the number of steps they take in a day. \n",
    "\n",
    "Accoding to https://www.medicinenet.com/how_many_steps_a_day_is_considered_active/article.htm, we can categorise a into various activity levels based on the number of steps they take: \n",
    "\n",
    "*Sedentary: Less than 5,000 steps daily\n",
    "*Low active: About 5,000 to 7,499 steps daily\n",
    "*Somewhat active: About 7,500 to 9,999 steps daily\n",
    "*Active: More than 10,000 steps daily\n",
    "*Highly active: More than 12,500 steps daily\n",
    "\n",
    "For the purpose of this analysis, we will club 'Active and Highly active' categories into 'Very Active' if the total number of steps taken is greater than 10,000. \n",
    "\n"
   ]
  },
  {
   "cell_type": "code",
   "execution_count": 292,
   "id": "ba8e7db9",
   "metadata": {},
   "outputs": [
    {
     "data": {
      "text/html": [
       "<div>\n",
       "<style scoped>\n",
       "    .dataframe tbody tr th:only-of-type {\n",
       "        vertical-align: middle;\n",
       "    }\n",
       "\n",
       "    .dataframe tbody tr th {\n",
       "        vertical-align: top;\n",
       "    }\n",
       "\n",
       "    .dataframe thead th {\n",
       "        text-align: right;\n",
       "    }\n",
       "</style>\n",
       "<table border=\"1\" class=\"dataframe\">\n",
       "  <thead>\n",
       "    <tr style=\"text-align: right;\">\n",
       "      <th></th>\n",
       "      <th>StepTotal</th>\n",
       "      <th>UserType</th>\n",
       "    </tr>\n",
       "    <tr>\n",
       "      <th>Id</th>\n",
       "      <th></th>\n",
       "      <th></th>\n",
       "    </tr>\n",
       "  </thead>\n",
       "  <tbody>\n",
       "    <tr>\n",
       "      <th>1503960366</th>\n",
       "      <td>12116.741935</td>\n",
       "      <td>Very Active</td>\n",
       "    </tr>\n",
       "    <tr>\n",
       "      <th>1624580081</th>\n",
       "      <td>5743.903226</td>\n",
       "      <td>Lightly Active</td>\n",
       "    </tr>\n",
       "    <tr>\n",
       "      <th>1644430081</th>\n",
       "      <td>7282.966667</td>\n",
       "      <td>Lightly Active</td>\n",
       "    </tr>\n",
       "    <tr>\n",
       "      <th>1844505072</th>\n",
       "      <td>2580.064516</td>\n",
       "      <td>Sedentary</td>\n",
       "    </tr>\n",
       "    <tr>\n",
       "      <th>1927972279</th>\n",
       "      <td>916.129032</td>\n",
       "      <td>Sedentary</td>\n",
       "    </tr>\n",
       "  </tbody>\n",
       "</table>\n",
       "</div>"
      ],
      "text/plain": [
       "               StepTotal        UserType\n",
       "Id                                      \n",
       "1503960366  12116.741935     Very Active\n",
       "1624580081   5743.903226  Lightly Active\n",
       "1644430081   7282.966667  Lightly Active\n",
       "1844505072   2580.064516       Sedentary\n",
       "1927972279    916.129032       Sedentary"
      ]
     },
     "execution_count": 292,
     "metadata": {},
     "output_type": "execute_result"
    }
   ],
   "source": [
    "#Creating a new list called 'UserType' which is then added to the existing 'Steps_Daily' as another column 'UserType'\n",
    "UserType = []\n",
    "step = Steps_Daily['StepTotal'].tolist()\n",
    "for val in step:\n",
    "    if val <5000:\n",
    "        UserType.append('Sedentary')\n",
    "    elif (val >= 5000 and val<7500):\n",
    "        UserType.append('Lightly Active')\n",
    "    elif (val >=7500 and val<10000):\n",
    "        UserType.append('Fairly Active')\n",
    "    elif val >=10000:\n",
    "        UserType.append('Very Active')\n",
    "\n",
    "Steps_Daily['UserType'] = UserType\n",
    "\n",
    "#To check if another column is added we use the head() function:\n",
    "Steps_Daily.head()"
   ]
  },
  {
   "cell_type": "markdown",
   "id": "e4af4efe",
   "metadata": {},
   "source": [
    "We will now arbitrarily categorize each user into high, moderate, or low usage of the app based on how many days they used the device during the data collection.\n",
    "Low: Less than 20 days\n",
    "Moderate: Between 20 and 30 days\n",
    "High:Greater than 30 days"
   ]
  },
  {
   "cell_type": "code",
   "execution_count": 293,
   "id": "b3852f08",
   "metadata": {},
   "outputs": [
    {
     "data": {
      "text/html": [
       "<div>\n",
       "<style scoped>\n",
       "    .dataframe tbody tr th:only-of-type {\n",
       "        vertical-align: middle;\n",
       "    }\n",
       "\n",
       "    .dataframe tbody tr th {\n",
       "        vertical-align: top;\n",
       "    }\n",
       "\n",
       "    .dataframe thead th {\n",
       "        text-align: right;\n",
       "    }\n",
       "</style>\n",
       "<table border=\"1\" class=\"dataframe\">\n",
       "  <thead>\n",
       "    <tr style=\"text-align: right;\">\n",
       "      <th></th>\n",
       "      <th>ActiveDays</th>\n",
       "      <th>UseType</th>\n",
       "    </tr>\n",
       "    <tr>\n",
       "      <th>Id</th>\n",
       "      <th></th>\n",
       "      <th></th>\n",
       "    </tr>\n",
       "  </thead>\n",
       "  <tbody>\n",
       "    <tr>\n",
       "      <th>1503960366</th>\n",
       "      <td>31</td>\n",
       "      <td>High</td>\n",
       "    </tr>\n",
       "    <tr>\n",
       "      <th>1624580081</th>\n",
       "      <td>31</td>\n",
       "      <td>High</td>\n",
       "    </tr>\n",
       "    <tr>\n",
       "      <th>1644430081</th>\n",
       "      <td>30</td>\n",
       "      <td>High</td>\n",
       "    </tr>\n",
       "    <tr>\n",
       "      <th>1844505072</th>\n",
       "      <td>31</td>\n",
       "      <td>High</td>\n",
       "    </tr>\n",
       "    <tr>\n",
       "      <th>1927972279</th>\n",
       "      <td>31</td>\n",
       "      <td>High</td>\n",
       "    </tr>\n",
       "  </tbody>\n",
       "</table>\n",
       "</div>"
      ],
      "text/plain": [
       "            ActiveDays UseType\n",
       "Id                            \n",
       "1503960366          31    High\n",
       "1624580081          31    High\n",
       "1644430081          30    High\n",
       "1844505072          31    High\n",
       "1927972279          31    High"
      ]
     },
     "execution_count": 293,
     "metadata": {},
     "output_type": "execute_result"
    }
   ],
   "source": [
    "#Creating a new table titled 'usage' which has a column 'ActiveDays' listing the number of days each user was active. \n",
    "Usage = Activity[['Id','ActivityDate']]\n",
    "Usage = Usage.groupby('Id').size()\n",
    "Usage= Usage.to_frame()\n",
    "Usage = Usage.rename(columns= {0: 'ActiveDays'})\n",
    "\n",
    "#Now we will categorise the rate of usage of each user:\n",
    "#Creating a new list called 'UserType' which is then added to the existing 'Steps_Daily' as another column 'UserType'\n",
    "Active = []\n",
    "use = Usage['ActiveDays'].tolist()\n",
    "for val in use:\n",
    "    if val <20:\n",
    "        Active.append('Low')\n",
    "    elif (val >= 20 and val<30):\n",
    "        Active.append('Moderate')\n",
    "    elif (val >=30):\n",
    "        Active.append('High')\n",
    "Usage['UseType'] = Active\n",
    "\n",
    "#To check if another column is added we use the head() function:\n",
    "Usage.head()"
   ]
  },
  {
   "cell_type": "markdown",
   "id": "9d84ab04",
   "metadata": {},
   "source": [
    "Additionally, we calculate the total hours the user had their device on their person by adding their active minutes into:\n",
    "    \n",
    "    -Less than 12 hours\n",
    "    \n",
    "    -Between 12 and 24 hours\n",
    "    \n",
    "    -All day\n",
    "\n",
    "We then append this information to the 'Activity' table"
   ]
  },
  {
   "cell_type": "code",
   "execution_count": 294,
   "id": "fe8dc070",
   "metadata": {},
   "outputs": [
    {
     "data": {
      "text/html": [
       "<div>\n",
       "<style scoped>\n",
       "    .dataframe tbody tr th:only-of-type {\n",
       "        vertical-align: middle;\n",
       "    }\n",
       "\n",
       "    .dataframe tbody tr th {\n",
       "        vertical-align: top;\n",
       "    }\n",
       "\n",
       "    .dataframe thead th {\n",
       "        text-align: right;\n",
       "    }\n",
       "</style>\n",
       "<table border=\"1\" class=\"dataframe\">\n",
       "  <thead>\n",
       "    <tr style=\"text-align: right;\">\n",
       "      <th></th>\n",
       "      <th>Id</th>\n",
       "      <th>ActivityDate</th>\n",
       "      <th>TotalSteps</th>\n",
       "      <th>TotalDistance</th>\n",
       "      <th>TrackerDistance</th>\n",
       "      <th>LoggedActivitiesDistance</th>\n",
       "      <th>VeryActiveDistance</th>\n",
       "      <th>ModeratelyActiveDistance</th>\n",
       "      <th>LightActiveDistance</th>\n",
       "      <th>SedentaryActiveDistance</th>\n",
       "      <th>VeryActiveMinutes</th>\n",
       "      <th>FairlyActiveMinutes</th>\n",
       "      <th>LightlyActiveMinutes</th>\n",
       "      <th>SedentaryMinutes</th>\n",
       "      <th>Calories</th>\n",
       "      <th>TotalHours</th>\n",
       "      <th>HourlyUsage</th>\n",
       "    </tr>\n",
       "  </thead>\n",
       "  <tbody>\n",
       "    <tr>\n",
       "      <th>0</th>\n",
       "      <td>1503960366</td>\n",
       "      <td>4/12/2016</td>\n",
       "      <td>13162</td>\n",
       "      <td>8.50</td>\n",
       "      <td>8.50</td>\n",
       "      <td>0.0</td>\n",
       "      <td>1.88</td>\n",
       "      <td>0.55</td>\n",
       "      <td>6.06</td>\n",
       "      <td>0.0</td>\n",
       "      <td>25</td>\n",
       "      <td>13</td>\n",
       "      <td>328</td>\n",
       "      <td>728</td>\n",
       "      <td>1985</td>\n",
       "      <td>18.23</td>\n",
       "      <td>Between 12 and 24 Hours</td>\n",
       "    </tr>\n",
       "    <tr>\n",
       "      <th>1</th>\n",
       "      <td>1503960366</td>\n",
       "      <td>4/13/2016</td>\n",
       "      <td>10735</td>\n",
       "      <td>6.97</td>\n",
       "      <td>6.97</td>\n",
       "      <td>0.0</td>\n",
       "      <td>1.57</td>\n",
       "      <td>0.69</td>\n",
       "      <td>4.71</td>\n",
       "      <td>0.0</td>\n",
       "      <td>21</td>\n",
       "      <td>19</td>\n",
       "      <td>217</td>\n",
       "      <td>776</td>\n",
       "      <td>1797</td>\n",
       "      <td>17.22</td>\n",
       "      <td>Between 12 and 24 Hours</td>\n",
       "    </tr>\n",
       "    <tr>\n",
       "      <th>2</th>\n",
       "      <td>1503960366</td>\n",
       "      <td>4/14/2016</td>\n",
       "      <td>10460</td>\n",
       "      <td>6.74</td>\n",
       "      <td>6.74</td>\n",
       "      <td>0.0</td>\n",
       "      <td>2.44</td>\n",
       "      <td>0.40</td>\n",
       "      <td>3.91</td>\n",
       "      <td>0.0</td>\n",
       "      <td>30</td>\n",
       "      <td>11</td>\n",
       "      <td>181</td>\n",
       "      <td>1218</td>\n",
       "      <td>1776</td>\n",
       "      <td>24.00</td>\n",
       "      <td>All day</td>\n",
       "    </tr>\n",
       "    <tr>\n",
       "      <th>3</th>\n",
       "      <td>1503960366</td>\n",
       "      <td>4/15/2016</td>\n",
       "      <td>9762</td>\n",
       "      <td>6.28</td>\n",
       "      <td>6.28</td>\n",
       "      <td>0.0</td>\n",
       "      <td>2.14</td>\n",
       "      <td>1.26</td>\n",
       "      <td>2.83</td>\n",
       "      <td>0.0</td>\n",
       "      <td>29</td>\n",
       "      <td>34</td>\n",
       "      <td>209</td>\n",
       "      <td>726</td>\n",
       "      <td>1745</td>\n",
       "      <td>16.63</td>\n",
       "      <td>Between 12 and 24 Hours</td>\n",
       "    </tr>\n",
       "    <tr>\n",
       "      <th>4</th>\n",
       "      <td>1503960366</td>\n",
       "      <td>4/16/2016</td>\n",
       "      <td>12669</td>\n",
       "      <td>8.16</td>\n",
       "      <td>8.16</td>\n",
       "      <td>0.0</td>\n",
       "      <td>2.71</td>\n",
       "      <td>0.41</td>\n",
       "      <td>5.04</td>\n",
       "      <td>0.0</td>\n",
       "      <td>36</td>\n",
       "      <td>10</td>\n",
       "      <td>221</td>\n",
       "      <td>773</td>\n",
       "      <td>1863</td>\n",
       "      <td>17.33</td>\n",
       "      <td>Between 12 and 24 Hours</td>\n",
       "    </tr>\n",
       "  </tbody>\n",
       "</table>\n",
       "</div>"
      ],
      "text/plain": [
       "           Id ActivityDate  TotalSteps  TotalDistance  TrackerDistance  \\\n",
       "0  1503960366    4/12/2016       13162           8.50             8.50   \n",
       "1  1503960366    4/13/2016       10735           6.97             6.97   \n",
       "2  1503960366    4/14/2016       10460           6.74             6.74   \n",
       "3  1503960366    4/15/2016        9762           6.28             6.28   \n",
       "4  1503960366    4/16/2016       12669           8.16             8.16   \n",
       "\n",
       "   LoggedActivitiesDistance  VeryActiveDistance  ModeratelyActiveDistance  \\\n",
       "0                       0.0                1.88                      0.55   \n",
       "1                       0.0                1.57                      0.69   \n",
       "2                       0.0                2.44                      0.40   \n",
       "3                       0.0                2.14                      1.26   \n",
       "4                       0.0                2.71                      0.41   \n",
       "\n",
       "   LightActiveDistance  SedentaryActiveDistance  VeryActiveMinutes  \\\n",
       "0                 6.06                      0.0                 25   \n",
       "1                 4.71                      0.0                 21   \n",
       "2                 3.91                      0.0                 30   \n",
       "3                 2.83                      0.0                 29   \n",
       "4                 5.04                      0.0                 36   \n",
       "\n",
       "   FairlyActiveMinutes  LightlyActiveMinutes  SedentaryMinutes  Calories  \\\n",
       "0                   13                   328               728      1985   \n",
       "1                   19                   217               776      1797   \n",
       "2                   11                   181              1218      1776   \n",
       "3                   34                   209               726      1745   \n",
       "4                   10                   221               773      1863   \n",
       "\n",
       "   TotalHours              HourlyUsage  \n",
       "0       18.23  Between 12 and 24 Hours  \n",
       "1       17.22  Between 12 and 24 Hours  \n",
       "2       24.00                  All day  \n",
       "3       16.63  Between 12 and 24 Hours  \n",
       "4       17.33  Between 12 and 24 Hours  "
      ]
     },
     "execution_count": 294,
     "metadata": {},
     "output_type": "execute_result"
    }
   ],
   "source": [
    "Activity['TotalHours'] = round((time_worn['VeryActiveMinutes']+time_worn['FairlyActiveMinutes']+time_worn['LightlyActiveMinutes']+time_worn['SedentaryMinutes'])/60,2)\n",
    "\n",
    "Hours = []\n",
    "hour = Activity['TotalHours'].tolist()\n",
    "for val in hour:\n",
    "    if val <12:\n",
    "        Hours.append('Less than 12 Hours')\n",
    "    elif (val >= 12 and val<24):\n",
    "        Hours.append('Between 12 and 24 Hours')\n",
    "    elif (val ==24):\n",
    "        Hours.append('All day')\n",
    "Activity['HourlyUsage'] = Hours\n",
    "Activity.head()\n"
   ]
  },
  {
   "cell_type": "markdown",
   "id": "c5d4d7da",
   "metadata": {},
   "source": [
    "We create a new table 'percent' which is further broken down into 3 tables 'High', 'Mod', 'Low'. We do this to categorise High, Moderate and Low daily users based on how many hours each user-type uses the app/device."
   ]
  },
  {
   "cell_type": "code",
   "execution_count": 295,
   "id": "c5e04cb8",
   "metadata": {},
   "outputs": [],
   "source": [
    "time = Activity[['Id','TotalHours','HourlyUsage' ]]\n",
    "percent = Usage.merge(time, on = 'Id')"
   ]
  },
  {
   "cell_type": "code",
   "execution_count": 296,
   "id": "817dee61",
   "metadata": {},
   "outputs": [],
   "source": [
    "High.DataFrame = percent[percent['ActiveDays'] >= 30]\n",
    "Mod.DataFrame = percent[percent['UseType'] == 'Moderate']\n",
    "Low.DataFrame = percent[percent['ActiveDays'] < 20]"
   ]
  },
  {
   "cell_type": "markdown",
   "id": "8256f91f",
   "metadata": {},
   "source": [
    "## Vizualising the Data to Gain Insights and to Draw Conclusions"
   ]
  },
  {
   "cell_type": "markdown",
   "id": "bfffbff0",
   "metadata": {},
   "source": [
    "1. Distribution of each user based on their Activity\n",
    "2. Distribution of sleep patterns of each user"
   ]
  },
  {
   "cell_type": "code",
   "execution_count": 297,
   "id": "a8c96a37",
   "metadata": {},
   "outputs": [
    {
     "data": {
      "image/png": "[encoded data removed]",
      "text/plain": [
       "<Figure size 700x300 with 2 Axes>"
      ]
     },
     "metadata": {},
     "output_type": "display_data"
    }
   ],
   "source": [
    "#distribution of users as usertype\n",
    "plt.subplot(1,2,1)\n",
    "Steps_Daily['UserType'].value_counts().plot(kind='pie',autopct='%1.1f%%',title= 'Distribution of User Type' ,figsize=(7,3))\n",
    "\n",
    "#distribution of users based on their average sleep\n",
    "plt.subplot(1,2,2)\n",
    "sleeptime['HoursAsleep'].plot(kind = 'hist', title ='Distribution of Sleep Patterns', figsize = (7,3))\n",
    "plt.ylabel('Number of Users')\n",
    "plt.xlabel('Average Hours of Sleep')\n",
    "\n",
    "plt.tight_layout()\n",
    "plt.show()\n"
   ]
  },
  {
   "cell_type": "markdown",
   "id": "8d87e3bb",
   "metadata": {},
   "source": [
    "3. Distribution of BMI across Activity"
   ]
  },
  {
   "cell_type": "code",
   "execution_count": 298,
   "id": "4929ea14",
   "metadata": {},
   "outputs": [
    {
     "name": "stderr",
     "output_type": "stream",
     "text": [
      "No artists with labels found to put in legend.  Note that artists whose label start with an underscore are ignored when legend() is called with no argument.\n",
      "No artists with labels found to put in legend.  Note that artists whose label start with an underscore are ignored when legend() is called with no argument.\n"
     ]
    },
    {
     "data": {
      "image/png": "[encoded data removed]",
      "text/plain": [
       "<Figure size 640x480 with 2 Axes>"
      ]
     },
     "metadata": {},
     "output_type": "display_data"
    }
   ],
   "source": [
    "#Checking to see if average sleep has any affect on the which category the user falls into\n",
    "#To do this we first merge sleeptime and Steps_Daily data frames\n",
    "sleep_steps = sleeptime.merge(Steps_Daily, on = 'Id')\n",
    "activity_weight = pd.merge(weight, Steps_Daily, on='Id', how='left')\n",
    "\n",
    "\n",
    "fig, (ax1, ax2) = plt.subplots(2, sharex=True)\n",
    "ax1.scatter(y= sleep_steps['HoursAsleep'], x=sleep_steps['UserType'])\n",
    "legend1 = ax1.legend(loc=\"upper left\", title=\"Hours Asleep\")\n",
    "ax2.scatter(y= activity_weight['BMI'], x=activity_weight['UserType'])\n",
    "legend2 = ax2.legend(loc=\"upper left\", title=\"BMI\")\n",
    "plt.show()"
   ]
  },
  {
   "cell_type": "markdown",
   "id": "f00861eb",
   "metadata": {},
   "source": [
    "Although there is limited data which can heavily skew the results, we can see a trend that very active and fairly active users (so users who walk greater than 7500 steps per day on average) are the people most likely to have a healthy BMI( which falls between 18.5-24.9). Only about 24% of the users logged their weight, which is not enough to make any concrete conclusions. "
   ]
  },
  {
   "cell_type": "markdown",
   "id": "6cffebe4",
   "metadata": {},
   "source": [
    "4. Linear Regression to Establish Correlations:"
   ]
  },
  {
   "cell_type": "markdown",
   "id": "ffa8247c",
   "metadata": {},
   "source": [
    "To establish any correlation that might exist, we will conduct a linear regression, to see if sleep time had any affect on the steps taken."
   ]
  },
  {
   "cell_type": "code",
   "execution_count": 299,
   "id": "acb8816e",
   "metadata": {},
   "outputs": [],
   "source": [
    "X = sleep_steps['StepTotal'].values.reshape(-1, 1)  \n",
    "Y = sleep_steps['HoursAsleep'].values.reshape(-1, 1)\n",
    "linear_regressor = LinearRegression()  # create object for the class\n",
    "linear_regressor.fit(X, Y)  # perform linear regression\n",
    "Y_pred = linear_regressor.predict(X)  # make predictions"
   ]
  },
  {
   "cell_type": "markdown",
   "id": "79c1ca7e",
   "metadata": {},
   "source": [
    "This result shows that there is close to zero correlation between hours slept and steps walked."
   ]
  },
  {
   "cell_type": "markdown",
   "id": "711bb814",
   "metadata": {},
   "source": [
    "We will also check the correlation between calories burnt and total steps walked. "
   ]
  },
  {
   "cell_type": "code",
   "execution_count": 300,
   "id": "9147c7fe",
   "metadata": {},
   "outputs": [],
   "source": [
    "X1 = Activity['TotalSteps'].values.reshape(-1, 1)  \n",
    "Y1 = Activity['Calories'].values.reshape(-1, 1)\n",
    "linear_regressor2 = LinearRegression()  # create object for the class\n",
    "linear_regressor2.fit(X1, Y1)  # perform linear regression\n",
    "Y1_pred = linear_regressor2.predict(X1)  # make predictions"
   ]
  },
  {
   "cell_type": "code",
   "execution_count": 301,
   "id": "80384abb",
   "metadata": {},
   "outputs": [
    {
     "name": "stdout",
     "output_type": "stream",
     "text": [
      "value of R-squared: 0.0483 .\n",
      "This means that number of steps walked is  4.83 % dependent on hours slept.\n"
     ]
    },
    {
     "data": {
      "image/png": "[encoded data removed]",
      "text/plain": [
       "<Figure size 640x200 with 1 Axes>"
      ]
     },
     "metadata": {},
     "output_type": "display_data"
    },
    {
     "name": "stdout",
     "output_type": "stream",
     "text": [
      "value of R-squared: 0.35 . \n",
      "This means that number of steps walked is  35.0 % dependent on hours slept.\n"
     ]
    },
    {
     "data": {
      "image/png": "[encoded data removed]",
      "text/plain": [
       "<Figure size 640x200 with 1 Axes>"
      ]
     },
     "metadata": {},
     "output_type": "display_data"
    }
   ],
   "source": [
    "plt.figure().set_figheight(2)\n",
    "r_squared = linear_regressor.score(X, Y)\n",
    "print('value of R-squared:',round(r_squared,4), '.\\nThis means that number of steps walked is ', round(r_squared*100, 2),'% dependent on hours slept.')\n",
    "plt.scatter(X, Y)\n",
    "plt.plot(X, Y_pred, color='red')\n",
    "plt.title('Linear Regression of Total Steps and Hours Slept')\n",
    "plt.show()\n",
    "\n",
    "plt.figure().set_figheight(2)\n",
    "r_squared2 = linear_regressor2.score(X1, Y1)\n",
    "print('value of R-squared:',round(r_squared2,4), '. \\nThis means that number of steps walked is ', round(r_squared2*100, 2),'% dependent on hours slept.')\n",
    "plt.scatter(X1, Y1)\n",
    "plt.plot(X1, Y1_pred, color='red')\n",
    "plt.title('Linear Regression of Total Steps and Calories burnt')\n",
    "plt.show()\n"
   ]
  },
  {
   "cell_type": "markdown",
   "id": "0ee5bd94",
   "metadata": {},
   "source": [
    "5. Distribution of Total Usage and Usage per day"
   ]
  },
  {
   "cell_type": "code",
   "execution_count": 302,
   "id": "6216e443",
   "metadata": {},
   "outputs": [
    {
     "data": {
      "image/png": "[encoded data removed]",
      "text/plain": [
       "<Figure size 640x480 with 2 Axes>"
      ]
     },
     "metadata": {},
     "output_type": "display_data"
    },
    {
     "data": {
      "image/png": "[encoded data removed]",
      "text/plain": [
       "<Figure size 1500x800 with 3 Axes>"
      ]
     },
     "metadata": {},
     "output_type": "display_data"
    }
   ],
   "source": [
    "#Plotting the all the data that we have manipulated:\n",
    "plt.subplot(1,2,1)\n",
    "percent['UseType'].value_counts().plot(kind='pie',autopct='%1.1f%%',title= 'Daily Use of Smart Device')\n",
    "\n",
    "plt.subplot(1,2,2)\n",
    "percent['HourlyUsage'].value_counts().plot(kind ='pie',autopct='%1.1f%%',title= 'Distribution of Time Device per Day')\n",
    "\n",
    "plt.tight_layout()\n",
    "plt.show()\n",
    "\n",
    "#Plotting a distribution of usage per day based on the type of user they are:\n",
    "fig, axes = plt.subplots(1, 3, figsize=(15,8))\n",
    "\n",
    "ax1=axes[0].pie(High['HourlyUsage'].value_counts(),autopct='%1.1f%%')\n",
    "axes[0].set_title('High Users')\n",
    "ax2=axes[1].pie(Mod['HourlyUsage'].value_counts(), autopct='%1.1f%%')\n",
    "axes[1].set_title('Moderate Users')\n",
    "ax3=axes[2].pie(Low['HourlyUsage'].value_counts(),autopct='%1.1f%%')\n",
    "axes[2].set_title('Low Users')\n",
    "plt.legend(High['HourlyUsage'], loc='best')\n",
    "#plt.title('Distribution of Users Based on How Much Time Users Wear Their Device')\n",
    "plt.show()"
   ]
  },
  {
   "cell_type": "markdown",
   "id": "5eeca04f",
   "metadata": {},
   "source": [
    "## Conclusions and Recommendation to Stakeholders is presented in a different presentation file."
   ]
  },
  {
   "cell_type": "code",
   "execution_count": null,
   "id": "4a53fc86",
   "metadata": {},
   "outputs": [],
   "source": []
  }
 ],
 "metadata": {
  "kernelspec": {
   "display_name": "Python 3 (ipykernel)",
   "language": "python",
   "name": "python3"
  },
  "language_info": {
   "codemirror_mode": {
    "name": "ipython",
    "version": 3
   },
   "file_extension": ".py",
   "mimetype": "text/x-python",
   "name": "python",
   "nbconvert_exporter": "python",
   "pygments_lexer": "ipython3",
   "version": "3.10.9"
  }
 },
 "nbformat": 4,
 "nbformat_minor": 5
}
